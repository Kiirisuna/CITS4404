{
 "cells": [
  {
   "cell_type": "code",
   "execution_count": 34,
   "metadata": {},
   "outputs": [],
   "source": [
    "import string\n",
    "import random\n",
    "import math\n",
    "\n",
    "#Note: did not take into account capital letters, but would be trivial to implement\n",
    "#Also very slow, practically similar to how coding train implemented it, but this one doesn't seem to converge anywhere near \n",
    "#that speed (with this setup and the phrase 'to be or not to be', took approx. 1-2mins :shrug:)\n",
    "random.seed(30)\n",
    "#population size\n",
    "generatedN = 500\n",
    "#mutation rate in % \n",
    "mutationR = 20"
   ]
  },
  {
   "cell_type": "code",
   "execution_count": 35,
   "metadata": {},
   "outputs": [],
   "source": [
    "#Function for random string generation\n",
    "def randomString(stringLength):\n",
    "    \"\"\"Generate a random string of fixed length \"\"\"\n",
    "    letters = string.ascii_lowercase + ' '\n",
    "    return ''.join(random.choice(letters) for i in range(stringLength))"
   ]
  },
  {
   "cell_type": "code",
   "execution_count": 36,
   "metadata": {},
   "outputs": [],
   "source": [
    "#Function for population generation\n",
    "def generatePopulation(populationSize,word):\n",
    "    array = []\n",
    "    for xx in range(populationSize):\n",
    "        array.append(randomString(len(word)))\n",
    "    return array"
   ]
  },
  {
   "cell_type": "code",
   "execution_count": 37,
   "metadata": {},
   "outputs": [],
   "source": [
    "#Function for calculating the fitness of population and returning the top 2 highest fitness (cuz survival of the fittest)\n",
    "def fitness(array,word):\n",
    "    populationArray = array\n",
    "    top4fitness = [0,0,0,0]\n",
    "    top4position = [0,0,0,0]\n",
    "    #Calculate the fitness for every word in the population\n",
    "    for xx in range(len(populationArray)):\n",
    "        comparison = populationArray[xx]\n",
    "        fitness = 0\n",
    "        #Fitness calculation - If same character in same position, fitness + 1\n",
    "        for xl in range(len(comparison)):\n",
    "            if comparison[xl] == word[xl]:\n",
    "                fitness += 1\n",
    "        #Compare fitness of the current word with top 2, if higher save it, else move onto next word\n",
    "        if fitness > top4fitness[0]:\n",
    "            top4fitness[0] = fitness\n",
    "            top4position[0] = xx\n",
    "        elif fitness > top4fitness[1]:\n",
    "            top4fitness[1] = fitness\n",
    "            top4position[1] = xx\n",
    "        elif fitness > top4fitness[2]:\n",
    "            top4fitness[2] = fitness\n",
    "            top4position[2] = xx\n",
    "        elif fitness > top4fitness[3]:\n",
    "            top4fitness[3] = fitness\n",
    "            top4position[3] = xx\n",
    "        #reset fitness counter\n",
    "        fitness = 0\n",
    "    return top4position,top4fitness"
   ]
  },
  {
   "cell_type": "code",
   "execution_count": 42,
   "metadata": {},
   "outputs": [],
   "source": [
    "def geneticAlgorithm(word):\n",
    "    #Number of generations to get a matching phrase, inclusive of initial generation\n",
    "    maxFit = len(word)\n",
    "    generation = 1\n",
    "    #Generate initial population\n",
    "    array = generatePopulation(generatedN,word)\n",
    "    #Calculate fitness for population\n",
    "    top4position,top4fitness = fitness(array,word)\n",
    "    #Get absolute highest fitness\n",
    "    topfitness=max(top4fitness)\n",
    "    #Repeat process until fitness score matches the length of the word\n",
    "    while topfitness != maxFit:\n",
    "        generation += 1\n",
    "        #Generate mating pool for random parent selection\n",
    "        matingPool=[]\n",
    "        for np in range(len(top4position)):\n",
    "            mateTimes = math.floor(top4fitness[np]/maxFit*100)\n",
    "        for mt in range (mateTimes):\n",
    "            matingPool.append(array[top4position[np]])\n",
    "        #Generate new population for next iteration\n",
    "        array = []\n",
    "        for nn in range (generatedN):\n",
    "            #Select two parents from the mating pool and create new child\n",
    "            parentA = random.randint(0,len(matingPool)-1)\n",
    "            parentB = random.randint(0,len(matingPool)-1)\n",
    "            newWord = matingPool[parentA][0:maxFit//2] + matingPool[parentB][maxFit//2:maxFit]\n",
    "            #For each character in the new word, there is a mutationR % chance of mutating\n",
    "            #Generate random number to determine if it mutates or not, then mutate\n",
    "            for pp in range (maxFit):\n",
    "                mute = random.randint(1,101)\n",
    "                if mutationR > mute:\n",
    "                    newWord=newWord[:pp]+randomString(1)+newWord[pp+1:]\n",
    "            #Add the new word into the population\n",
    "            #print(newWord)\n",
    "            array.append(newWord)\n",
    "        #Begin fitness calculation\n",
    "        top4position,top4fitness = fitness(array,word)\n",
    "        topfitness=max(top4fitness)\n",
    "    print('the final pair is:',array[top4position[0]], 'and', array[top4position[1]], 'and it took', generation, ' generations')"
   ]
  },
  {
   "cell_type": "code",
   "execution_count": 43,
   "metadata": {},
   "outputs": [
    {
     "name": "stdout",
     "output_type": "stream",
     "text": [
      "the final pair is: to be or not to be and to be or not to fe and it took 3023  generations\n"
     ]
    }
   ],
   "source": [
    "geneticAlgorithm('to be or not to be')"
   ]
  },
  {
   "cell_type": "code",
   "execution_count": null,
   "metadata": {},
   "outputs": [],
   "source": [
    "gene=[10,20,40,15]\n",
    "print(max(gene))"
   ]
  },
  {
   "cell_type": "code",
   "execution_count": null,
   "metadata": {},
   "outputs": [],
   "source": []
  }
 ],
 "metadata": {
  "kernelspec": {
   "display_name": "Python 3",
   "language": "python",
   "name": "python3"
  },
  "language_info": {
   "codemirror_mode": {
    "name": "ipython",
    "version": 3
   },
   "file_extension": ".py",
   "mimetype": "text/x-python",
   "name": "python",
   "nbconvert_exporter": "python",
   "pygments_lexer": "ipython3",
   "version": "3.7.1"
  }
 },
 "nbformat": 4,
 "nbformat_minor": 2
}
