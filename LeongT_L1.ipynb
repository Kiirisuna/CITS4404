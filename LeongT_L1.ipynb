{
 "cells": [
  {
   "cell_type": "code",
   "execution_count": null,
   "metadata": {},
   "outputs": [],
   "source": [
    "import string\n",
    "import random\n",
    "\n",
    "#Note: did not take into account capital letters, but would be trivial to implement\n",
    "random.seed(30)\n",
    "#population size\n",
    "generatedN = 200\n",
    "#mutation rate in % \n",
    "mutationR = 1"
   ]
  },
  {
   "cell_type": "code",
   "execution_count": null,
   "metadata": {},
   "outputs": [],
   "source": [
    "#Function for random string generation\n",
    "def randomString(stringLength):\n",
    "    \"\"\"Generate a random string of fixed length \"\"\"\n",
    "    letters = string.ascii_lowercase + ' '\n",
    "    return ''.join(random.choice(letters) for i in range(stringLength))"
   ]
  },
  {
   "cell_type": "code",
   "execution_count": null,
   "metadata": {},
   "outputs": [],
   "source": [
    "#Function for population generation\n",
    "def generatePopulation(populationSize,word):\n",
    "    array = []\n",
    "    for xx in range(populationSize):\n",
    "        array.append(randomString(len(word)))\n",
    "    return array"
   ]
  },
  {
   "cell_type": "code",
   "execution_count": null,
   "metadata": {},
   "outputs": [],
   "source": [
    "#Function for calculating the fitness of population and returning the top 2 highest fitness (cuz survival of the fittest)\n",
    "def fitness(array,word):\n",
    "    populationArray = array\n",
    "    top2fitness = [0,0]\n",
    "    top2position = [0,0]\n",
    "    #Calculate the fitness for every word in the population\n",
    "    for xx in range(len(populationArray)):\n",
    "        comparison = populationArray[xx]\n",
    "        fitness = 0\n",
    "        #Fitness calculation - If same character in same position, fitness + 1\n",
    "        for xl in range(len(comparison)):\n",
    "            if comparison[xl] == word[xl]:\n",
    "                fitness += 1\n",
    "        #Compare fitness of the current word with top 2, if higher save it, else move onto next word\n",
    "        if fitness > top2fitness[0]:\n",
    "            top2fitness[0] = fitness\n",
    "            top2position[0] = xx\n",
    "        elif fitness > top2fitness[1]:\n",
    "            top2fitness[1] = fitness\n",
    "            top2position[1] = xx\n",
    "        #reset fitness counter\n",
    "        fitness = 0\n",
    "    return top2position,top2fitness"
   ]
  },
  {
   "cell_type": "code",
   "execution_count": 283,
   "metadata": {},
   "outputs": [],
   "source": [
    "def geneticAlgorithm(word):\n",
    "    #Number of generations to get a matching phrase, inclusive of initial generation\n",
    "    generation = 1\n",
    "    #Generate initial population\n",
    "    array = generatePopulation(generatedN,word)\n",
    "    #Calculate fitness for population\n",
    "    top2position,top2fitness = fitness(array,word)\n",
    "    #Get absolute highest fitness\n",
    "    topfitness=top2fitness[0]\n",
    "    if top2fitness[1] > topfitness:\n",
    "        topfitness = top2fitness[1]\n",
    "    #Repeat process until fitness score matches the length of the word\n",
    "    while topfitness != len(word):\n",
    "        generation += 1\n",
    "        #Creation of new words by appending first half of first parent with second half of second parent, vice versa\n",
    "        newWords = []\n",
    "        newWords.append(array[top2position[0]][0:len(word)//2] + array[top2position[1]][len(word)//2:len(word)])\n",
    "        newWords.append(array[top2position[1]][0:len(word)//2] + array[top2position[0]][len(word)//2:len(word)])\n",
    "        #For each character in the new word, there is a mutationR % chance of mutating\n",
    "        #Generate random number to determine if it mutates or not, then mutate\n",
    "        for nn in range(len(newWords)):\n",
    "            for pp in range (len(word)):\n",
    "                mute = random.randint(1,101)\n",
    "                if mutationR >= mute:\n",
    "                    newWords[nn]=newWords[nn][:pp]+randomString(1)+newWords[nn][pp+1:]\n",
    "        #Generate new population for next iteration and add the words into that population\n",
    "        array = generatePopulation(generatedN,word)\n",
    "        array[0] = newWords[0]\n",
    "        array[1] = newWords[1]\n",
    "        top2position,top2fitness = fitness(array,word)\n",
    "        topfitness=top2fitness[0]\n",
    "        if top2fitness[1] > topfitness:\n",
    "            topfitness = top2fitness[1]\n",
    "    print('the final pair is:',array[top2position[0]], 'and', array[top2position[1]], 'and it took', generation, ' generations')"
   ]
  },
  {
   "cell_type": "code",
   "execution_count": 285,
   "metadata": {},
   "outputs": [
    {
     "name": "stdout",
     "output_type": "stream",
     "text": [
      "the final pair is: phrase and ppraqq and it took 17  generations\n"
     ]
    }
   ],
   "source": [
    "geneticAlgorithm('phrase')"
   ]
  },
  {
   "cell_type": "code",
   "execution_count": null,
   "metadata": {},
   "outputs": [],
   "source": []
  }
 ],
 "metadata": {
  "kernelspec": {
   "display_name": "Python 3",
   "language": "python",
   "name": "python3"
  },
  "language_info": {
   "codemirror_mode": {
    "name": "ipython",
    "version": 3
   },
   "file_extension": ".py",
   "mimetype": "text/x-python",
   "name": "python",
   "nbconvert_exporter": "python",
   "pygments_lexer": "ipython3",
   "version": "3.7.1"
  }
 },
 "nbformat": 4,
 "nbformat_minor": 2
}
